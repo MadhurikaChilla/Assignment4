{
 "cells": [
  {
   "cell_type": "code",
   "execution_count": 2,
   "id": "8897326b",
   "metadata": {},
   "outputs": [
    {
     "name": "stdout",
     "output_type": "stream",
     "text": [
      "Enter number of elements in a List: 4\n",
      "enter ele: 4\n",
      "enter ele: 5\n",
      "enter ele: 2\n",
      "enter ele: 9\n",
      "Square the elements of the list:\n",
      "[16, 25, 4, 81]\n"
     ]
    }
   ],
   "source": [
    "lst = []\n",
    "n =int(input(\"Enter number of elements in a List: \"))\n",
    "for i in range(0,n):\n",
    "    ele = int(input(\"enter ele: \"))\n",
    "    lst.append(ele)\n",
    "squares = list(map(lambda x:x**2,lst))\n",
    "print(\"Square the elements of the list:\")\n",
    "print(squares)"
   ]
  },
  {
   "cell_type": "code",
   "execution_count": null,
   "id": "2ae1b83c",
   "metadata": {},
   "outputs": [],
   "source": []
  }
 ],
 "metadata": {
  "kernelspec": {
   "display_name": "Python 3 (ipykernel)",
   "language": "python",
   "name": "python3"
  },
  "language_info": {
   "codemirror_mode": {
    "name": "ipython",
    "version": 3
   },
   "file_extension": ".py",
   "mimetype": "text/x-python",
   "name": "python",
   "nbconvert_exporter": "python",
   "pygments_lexer": "ipython3",
   "version": "3.10.1"
  }
 },
 "nbformat": 4,
 "nbformat_minor": 5
}

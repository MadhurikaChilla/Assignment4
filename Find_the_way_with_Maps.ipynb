{
 "cells": [
  {
   "cell_type": "code",
   "execution_count": 11,
   "id": "e6eeadbb",
   "metadata": {},
   "outputs": [
    {
     "name": "stdout",
     "output_type": "stream",
     "text": [
      "Enter number of elements in a List: 7\n",
      "enter ele: 1\n",
      "enter ele: 2\n",
      "enter ele: 3\n",
      "enter ele: 4\n",
      "enter ele: 5\n",
      "enter ele: 6\n",
      "enter ele: 7\n",
      "Triple of list numbers:\n",
      "[3, 6, 9, 12, 15, 18, 21]\n"
     ]
    }
   ],
   "source": [
    "# Find_the_way_with_Maps\n",
    "\n",
    "def triple_num(n):\n",
    "    return n+n+n\n",
    "lst = []\n",
    "n =int(input(\"Enter number of elements in a List: \"))\n",
    "for i in range(0,n):\n",
    "    ele = int(input(\"enter ele: \"))\n",
    "    lst.append(ele)\n",
    "r = map(triple_num,lst)\n",
    "print(\"Triple of list numbers:\")\n",
    "print(list(r))"
   ]
  },
  {
   "cell_type": "code",
   "execution_count": null,
   "id": "c5694005",
   "metadata": {},
   "outputs": [],
   "source": []
  },
  {
   "cell_type": "code",
   "execution_count": null,
   "id": "76782522",
   "metadata": {},
   "outputs": [],
   "source": []
  },
  {
   "cell_type": "code",
   "execution_count": null,
   "id": "420c2ff3",
   "metadata": {},
   "outputs": [],
   "source": []
  }
 ],
 "metadata": {
  "kernelspec": {
   "display_name": "Python 3 (ipykernel)",
   "language": "python",
   "name": "python3"
  },
  "language_info": {
   "codemirror_mode": {
    "name": "ipython",
    "version": 3
   },
   "file_extension": ".py",
   "mimetype": "text/x-python",
   "name": "python",
   "nbconvert_exporter": "python",
   "pygments_lexer": "ipython3",
   "version": "3.10.1"
  }
 },
 "nbformat": 4,
 "nbformat_minor": 5
}
